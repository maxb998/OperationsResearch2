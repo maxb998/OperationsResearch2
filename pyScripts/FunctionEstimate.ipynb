{
 "cells": [
  {
   "cell_type": "markdown",
   "metadata": {},
   "source": [
    "# Estimate Curves #\n",
    "In this notebook we will try to use data obtained by benchmarking the main solver in order to find correlations between size of the instances, time limit and hyperparameter values in order to tune to the best hyperparameters"
   ]
  },
  {
   "cell_type": "code",
   "execution_count": null,
   "metadata": {},
   "outputs": [],
   "source": [
    "import numpy as np\n",
    "from matplotlib import pyplot as plt\n",
    "import re\n",
    "from scipy import signal\n",
    "from sklearn.preprocessing import PolynomialFeatures\n",
    "from sklearn.linear_model import LinearRegression\n",
    "\n",
    "np.set_printoptions(edgeitems=30, linewidth=400, formatter=dict(float=lambda x: \"%.5g\" % x))"
   ]
  },
  {
   "cell_type": "markdown",
   "metadata": {},
   "source": [
    "### Loading csv data"
   ]
  },
  {
   "cell_type": "code",
   "execution_count": null,
   "metadata": {},
   "outputs": [],
   "source": [
    "cost_csv_fname = \"../runs/nn_almostbest_tune_chance_cost.csv\"\n",
    "\n",
    "def read_csv(fname:str) -> [np.ndarray, np.array, np.array, np.ndarray]:\n",
    "    with open(fname, 'r') as csvfile:\n",
    "        firstline = csvfile.readline().strip().split(';')\n",
    "        ncols = int(firstline[0])\n",
    "        hyperparam_vals = []\n",
    "        for i in range(ncols):\n",
    "            hyperparam_vals.append(float(re.findall(r'\\d.\\d+', firstline[i+1])[0]))\n",
    "        nodes_num_list = []\n",
    "        rows = []\n",
    "        runtimes = []\n",
    "        for row in csvfile:\n",
    "            row = row.strip().split(';')\n",
    "            nodes_num_list.append(float(re.findall(r'\\d+', row[0])[0]))\n",
    "            rdata = []\n",
    "            for j in range(ncols):\n",
    "                if row[j+1] == 'null':\n",
    "                    rdata.append(np.Infinity)\n",
    "                else:\n",
    "                    rdata.append(float(row[j + 1]))\n",
    "            rows.append(rdata)\n",
    "            runtimes.append(float(row[ncols+1]))\n",
    "    runtimes = np.array(runtimes)\n",
    "    nodes_num_list =np.array(nodes_num_list)\n",
    "    hyperparam_vals = np.array(hyperparam_vals)\n",
    "    rows = np.array(rows)\n",
    "    return (rows, nodes_num_list, hyperparam_vals, runtimes)\n",
    "\n",
    "cost_data, nNodes, param_values, runtime_data = read_csv(cost_csv_fname)\n",
    "\n",
    "best_cost_pos = np.argmin(cost_data, axis=1)\n",
    "best_param_values = param_values[best_cost_pos]"
   ]
  },
  {
   "cell_type": "markdown",
   "metadata": {},
   "source": [
    "### Use linear regression to find a good polynomial"
   ]
  },
  {
   "cell_type": "code",
   "execution_count": null,
   "metadata": {},
   "outputs": [],
   "source": [
    "kernelPowVal = 1/1.85849\n",
    "kernel_nNodes = 1 / np.power(nNodes, kernelPowVal)\n",
    "\n",
    "poly = PolynomialFeatures(degree=1, include_bias=False)\n",
    "poly_features = poly.fit_transform(kernel_nNodes.reshape(-1,1))\n",
    "model = LinearRegression()\n",
    "model.fit(poly_features, best_param_values)\n",
    "print('Model coeffs\\n' + str(model.coef_))\n",
    "predicted = model.predict(poly_features)\n",
    "print('Avg Pred/True ratio = '+ str(np.average(np.abs(predicted / best_param_values))))\n",
    "\n",
    "\n",
    "xstart = 4#np.min(nNodes)\n",
    "x = np.arange(start=xstart, stop=100000, dtype=np.float32)\n",
    "fx = model.coef_ / np.power(x, kernelPowVal)\n",
    "\n",
    "fig = plt.figure(figsize=(12, 6), dpi=200)\n",
    "\n",
    "# plt.plot(nNodes, predicted, c='blue', marker='.')\n",
    "plt.plot(x, fx, c='blue', marker='')\n",
    "plt.scatter(nNodes, best_param_values, c='red', marker='.', s=5)\n",
    "\n",
    "plt.xlabel('Number of Nodes')\n",
    "plt.ylabel('Grasp Chance')\n",
    "plt.grid(True, 'major')\n",
    "plt.grid(True, 'minor', color='lightgrey', linestyle='--')\n",
    "\n",
    "plt.xscale('log')"
   ]
  }
 ],
 "metadata": {
  "kernelspec": {
   "display_name": "Python 3",
   "language": "python",
   "name": "python3"
  },
  "language_info": {
   "codemirror_mode": {
    "name": "ipython",
    "version": 3
   },
   "file_extension": ".py",
   "mimetype": "text/x-python",
   "name": "python",
   "nbconvert_exporter": "python",
   "pygments_lexer": "ipython3",
   "version": "3.12.0"
  }
 },
 "nbformat": 4,
 "nbformat_minor": 2
}
